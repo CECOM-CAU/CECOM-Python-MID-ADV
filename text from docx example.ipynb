{
 "cells": [
  {
   "cell_type": "code",
   "execution_count": 2,
   "id": "8f5e2a1f",
   "metadata": {},
   "outputs": [],
   "source": [
    "from docx import Document"
   ]
  },
  {
   "cell_type": "code",
   "execution_count": 9,
   "id": "15b7dda2",
   "metadata": {},
   "outputs": [
    {
     "name": "stdout",
     "output_type": "stream",
     "text": [
      "세제곱근 \n",
      "총합 \n",
      "위첨자  \n",
      "아래첨자 \n",
      "집합 \n",
      "극한 \n",
      "삼각함수 \n",
      "절대값 \n",
      "삼중곲 \n",
      "근의 공식 \n",
      "테일러 \n"
     ]
    }
   ],
   "source": [
    "document = Document('C:/Users/USER/Desktop/test.docx')\n",
    "for paragraph in document.paragraphs :\n",
    "    print(paragraph.text)"
   ]
  }
 ],
 "metadata": {
  "kernelspec": {
   "display_name": "pyconverter",
   "language": "python",
   "name": "venv_a"
  },
  "language_info": {
   "codemirror_mode": {
    "name": "ipython",
    "version": 3
   },
   "file_extension": ".py",
   "mimetype": "text/x-python",
   "name": "python",
   "nbconvert_exporter": "python",
   "pygments_lexer": "ipython3",
   "version": "3.8.8"
  }
 },
 "nbformat": 4,
 "nbformat_minor": 5
}
